{
 "cells": [
  {
   "cell_type": "markdown",
   "metadata": {},
   "source": [
    "# Regression of linear and non-linear functions using neural networks with Tensorflow\n",
    "\n",
    "Neural Networks have being used to solve some complicated problems in the last few years. One thing all those problems have in common, is that they all have strong non-linear features.\n",
    "In this Notebook, we will breafily explore how neural networks deals with non-linearities"
   ]
  },
  {
   "cell_type": "code",
   "execution_count": 1,
   "metadata": {},
   "outputs": [
    {
     "name": "stdout",
     "output_type": "stream",
     "text": [
      "tensorflow-gpu version  1.12.0\n"
     ]
    }
   ],
   "source": [
    "from __future__ import absolute_import, division, print_function\n",
    "import tensorflow as tf\n",
    "tf.logging.set_verbosity(tf.logging.ERROR)\n",
    "\n",
    "print(\"tensorflow-gpu version \",tf.__version__)\n",
    "\n",
    "import numpy as np"
   ]
  },
  {
   "attachments": {},
   "cell_type": "markdown",
   "metadata": {},
   "source": [
    "First we will see how a neural network with one layer and one neuron,  output = input*w1 + b fit the function y_values = 2*x_values. As the output is linear with the input, the optimizer shall not find it hard to find the values of w1 and b.\n",
    "\n",
    "![neuron](https://user-images.githubusercontent.com/23335136/55291532-d0df6c80-53b5-11e9-89ad-4ee6fd04075c.png)\n",
    "\n",
    "We need to create the traning data values"
   ]
  },
  {
   "cell_type": "code",
   "execution_count": 2,
   "metadata": {},
   "outputs": [],
   "source": [
    "x_values = np.array([0, 1, 2, 3, 4, 5,  6],  dtype=float)\n",
    "y_values = np.array([0, 2, 4, 6, 8, 10, 12],  dtype=float)"
   ]
  },
  {
   "cell_type": "markdown",
   "metadata": {},
   "source": [
    "Then we built the nn with keras"
   ]
  },
  {
   "cell_type": "code",
   "execution_count": 3,
   "metadata": {},
   "outputs": [
    {
     "name": "stdout",
     "output_type": "stream",
     "text": [
      "_________________________________________________________________\n",
      "Layer (type)                 Output Shape              Param #   \n",
      "=================================================================\n",
      "dense (Dense)                (None, 1)                 2         \n",
      "=================================================================\n",
      "Total params: 2\n",
      "Trainable params: 2\n",
      "Non-trainable params: 0\n",
      "_________________________________________________________________\n"
     ]
    }
   ],
   "source": [
    "layer1 = tf.keras.layers.Dense(units=1,input_shape=[1])  \n",
    "model = tf.keras.Sequential([layer1])\n",
    "model.summary()"
   ]
  },
  {
   "cell_type": "markdown",
   "metadata": {},
   "source": [
    "This network has 2 trainable parameters, one weight and one bias.\n",
    "We will compile the network using the optmizer Adam to minimize the MSE. Adam can cause some trouble with sparse datasets, but as we shall see, it will not be the case"
   ]
  },
  {
   "cell_type": "code",
   "execution_count": 4,
   "metadata": {},
   "outputs": [],
   "source": [
    "model.compile(loss='mean_squared_error',\n",
    "              optimizer=tf.keras.optimizers.Adam(0.1))"
   ]
  },
  {
   "cell_type": "markdown",
   "metadata": {},
   "source": [
    "We train the network for 500 epochs, then plot loss to see if this is enough"
   ]
  },
  {
   "cell_type": "code",
   "execution_count": 5,
   "metadata": {},
   "outputs": [
    {
     "data": {
      "text/plain": [
       "<Figure size 640x480 with 1 Axes>"
      ]
     },
     "metadata": {},
     "output_type": "display_data"
    },
    {
     "name": "stdout",
     "output_type": "stream",
     "text": [
      "These are the layer variables, w*x + b: [array([[2.]], dtype=float32), array([-1.7711548e-11], dtype=float32)]\n"
     ]
    }
   ],
   "source": [
    "history = model.fit(x_values, y_values, epochs=500, verbose=False)\n",
    "import matplotlib.pyplot as plt\n",
    "plt.xlabel('Epoch Number')\n",
    "plt.ylabel(\"Loss Magnitude\")\n",
    "plt.plot(history.history['loss'])\n",
    "plt.show()\n",
    "\n",
    "print(\"These are the layer variables, w*x + b: {}\".format(layer1.get_weights()))"
   ]
  },
  {
   "cell_type": "markdown",
   "metadata": {},
   "source": [
    "Let's test that. We will use data in the training set to evaluate the network just to get the graph. It is terribly wrong in data science and machine learning to evaluate models with training data. please dont do that."
   ]
  },
  {
   "cell_type": "code",
   "execution_count": 6,
   "metadata": {},
   "outputs": [
    {
     "data": {
      "image/png": "[encoded data removed]",
      "text/plain": [
       "<Figure size 432x288 with 1 Axes>"
      ]
     },
     "metadata": {
      "needs_background": "light"
     },
     "output_type": "display_data"
    }
   ],
   "source": [
    "y_pred = np.array([int(model.predict([0])),\n",
    "                   int(model.predict([1])),\n",
    "                   int(model.predict([2])),\n",
    "                   int(model.predict([3])),\n",
    "                   int(model.predict([4])),\n",
    "                   int(model.predict([5])),\n",
    "                   int(model.predict([6]))],  dtype=float)\n",
    "\n",
    "plt.plot(x_values,y_values)\n",
    "plt.plot(x_values,y_pred)\n",
    "plt.xlabel(\"x_values\")\n",
    "plt.ylabel(\"y_values and y_pred\")\n",
    "\n",
    "plt.show()"
   ]
  },
  {
   "cell_type": "markdown",
   "metadata": {},
   "source": [
    "Note: this plot should be one straight line (y = ax+b) but for some reason, matplotlib messes it\n",
    "\n",
    "Now we will do the same with a quadratic function. As it is quadratic, we have no hope of fitting it with the network above, simple a*w1+b wont do. One thing we could try is to stack more layers in the network and use more neurons"
   ]
  },
  {
   "cell_type": "code",
   "execution_count": 7,
   "metadata": {},
   "outputs": [
    {
     "name": "stdout",
     "output_type": "stream",
     "text": [
      "_________________________________________________________________\n",
      "Layer (type)                 Output Shape              Param #   \n",
      "=================================================================\n",
      "dense_1 (Dense)              (None, 5)                 10        \n",
      "_________________________________________________________________\n",
      "dense_2 (Dense)              (None, 10)                60        \n",
      "_________________________________________________________________\n",
      "dense_3 (Dense)              (None, 1)                 11        \n",
      "=================================================================\n",
      "Total params: 81\n",
      "Trainable params: 81\n",
      "Non-trainable params: 0\n",
      "_________________________________________________________________\n"
     ]
    },
    {
     "data": {
      "image/png": "[encoded data removed]",
      "text/plain": [
       "<Figure size 432x288 with 1 Axes>"
      ]
     },
     "metadata": {
      "needs_background": "light"
     },
     "output_type": "display_data"
    }
   ],
   "source": [
    "x_values = np.array([0, 1,  2,  3, 4, 5,  6],  dtype=float)\n",
    "y_values = np.array([0,  1, 4, 9, 16, 25, 36],  dtype=float)\n",
    "layer1 = tf.keras.layers.Dense(units=5,input_shape=[1])  \n",
    "layer2 = tf.keras.layers.Dense(units=10) \n",
    "layer3 = tf.keras.layers.Dense(units=1) \n",
    "del model\n",
    "model = tf.keras.Sequential([layer1,layer2,layer3])\n",
    "model.summary()\n",
    "model.compile(loss='mean_squared_error',\n",
    "              optimizer=tf.keras.optimizers.Adam(0.1))\n",
    "history = model.fit(x_values, y_values, epochs=500, verbose=False)\n",
    "y_pred = np.array([int(model.predict([0])),\n",
    "                   int(model.predict([1])),\n",
    "                   int(model.predict([2])),\n",
    "                   int(model.predict([3])),\n",
    "                   int(model.predict([4])),\n",
    "                   int(model.predict([5])),\n",
    "                   int(model.predict([6]))],  dtype=float)\n",
    "\n",
    "plt.plot(x_values,y_values)\n",
    "plt.plot(x_values,y_pred)\n",
    "plt.xlabel(\"x_values\")\n",
    "plt.ylabel(\"y_values and y_pred\")\n",
    "\n",
    "plt.show()"
   ]
  },
  {
   "cell_type": "markdown",
   "metadata": {},
   "source": [
    "It didn't work we got a linear model even with more layers. The superposition theorem tells us that the sum of two or more linear systems will always be linear. This is why we could use one neuron to fit the first function but will not be able to fit the second, it does not matter how many neurons and layers we use, beucause it will still look something like y = a0*w0+a1*w1+... it will be linear.\n",
    "To model non-linear functions, we need non-linearities.\n",
    "The non-linearities are inserted in the nn using activation-functions, relu and elu for exemple"
   ]
  },
  {
   "attachments": {},
   "cell_type": "markdown",
   "metadata": {},
   "source": [
    "![act-funcs](https://user-images.githubusercontent.com/23335136/55291514-9f66a100-53b5-11e9-89a5-59566bdc9cc0.png)"
   ]
  },
  {
   "cell_type": "code",
   "execution_count": 8,
   "metadata": {},
   "outputs": [
    {
     "name": "stdout",
     "output_type": "stream",
     "text": [
      "_________________________________________________________________\n",
      "Layer (type)                 Output Shape              Param #   \n",
      "=================================================================\n",
      "dense_4 (Dense)              (None, 5)                 10        \n",
      "_________________________________________________________________\n",
      "dense_5 (Dense)              (None, 10)                60        \n",
      "_________________________________________________________________\n",
      "dense_6 (Dense)              (None, 1)                 11        \n",
      "=================================================================\n",
      "Total params: 81\n",
      "Trainable params: 81\n",
      "Non-trainable params: 0\n",
      "_________________________________________________________________\n"
     ]
    },
    {
     "data": {
      "image/png": "[encoded data removed]",
      "text/plain": [
       "<Figure size 432x288 with 1 Axes>"
      ]
     },
     "metadata": {
      "needs_background": "light"
     },
     "output_type": "display_data"
    }
   ],
   "source": [
    "x_values = np.array([0, 1,  2,  3, 4, 5,  6],  dtype=float)\n",
    "y_values = np.array([0,  1, 4, 9, 16, 25, 36],  dtype=float)\n",
    "\n",
    "#'elu' is the non-linearitie we will use, it is a better version of the relu, because 'elu' is smooth\n",
    "# around zero, in consequence, is derivative has no jumps, it makes the convergence faster but computations slower\n",
    "# because it has exponentials in it\n",
    "\n",
    "layer1 = tf.keras.layers.Dense(units=5,input_shape=[1],activation = 'elu')  \n",
    "layer2 = tf.keras.layers.Dense(units=10,activation = 'elu') \n",
    "layer3 = tf.keras.layers.Dense(units=1,activation = 'elu') \n",
    "del model\n",
    "model = tf.keras.Sequential([layer1,layer2,layer3])\n",
    "model.summary()\n",
    "model.compile(loss='mean_squared_error',\n",
    "              optimizer=tf.keras.optimizers.Adam(0.1))\n",
    "history = model.fit(x_values, y_values, epochs=500, verbose=False)\n",
    "y_pred = np.array([int(model.predict([0])),\n",
    "                   int(model.predict([1])),\n",
    "                   int(model.predict([2])),\n",
    "                   int(model.predict([3])),\n",
    "                   int(model.predict([4])),\n",
    "                   int(model.predict([5])),\n",
    "                   int(model.predict([6]))],  dtype=float)\n",
    "\n",
    "plt.plot(x_values,y_values)\n",
    "plt.plot(x_values,y_pred)\n",
    "plt.xlabel(\"x_values\")\n",
    "plt.ylabel(\"y_values and y_pred\")\n",
    "\n",
    "plt.show()"
   ]
  },
  {
   "cell_type": "markdown",
   "metadata": {},
   "source": [
    "# Conclusion\n",
    "\n",
    "In control systems, our professors are always saying things like 'everything real is non-linear', altough we try our best to model systems with linear functions they are just aproximations, and for complex systems, it gets harder and harder to model systems with linear functions because some of them have some really strong non-linearities.\n",
    "In data science and machine learning, we are trying to solve complex problems like classification and regression on pretty non-linear data-sets, thats why neural networks are the weapon of choice, and they aproximate non-linear functions because of the non-linear activation functions."
   ]
  }
 ],
 "metadata": {
  "kernelspec": {
   "display_name": "Python 3",
   "language": "python",
   "name": "python3"
  },
  "language_info": {
   "codemirror_mode": {
    "name": "ipython",
    "version": 3
   },
   "file_extension": ".py",
   "mimetype": "text/x-python",
   "name": "python",
   "nbconvert_exporter": "python",
   "pygments_lexer": "ipython3",
   "version": "3.6.8"
  }
 },
 "nbformat": 4,
 "nbformat_minor": 2
}
